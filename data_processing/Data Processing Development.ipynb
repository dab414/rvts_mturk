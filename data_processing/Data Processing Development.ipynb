{
 "cells": [
  {
   "cell_type": "code",
   "execution_count": 5,
   "metadata": {},
   "outputs": [],
   "source": [
    "import pandas as pd\n",
    "import ast"
   ]
  },
  {
   "cell_type": "code",
   "execution_count": 3,
   "metadata": {},
   "outputs": [],
   "source": [
    "hit_id = open('hit_id.txt','r').read()\n",
    "#x = pd.read_json(hit_id + '_demo.txt')"
   ]
  },
  {
   "cell_type": "code",
   "execution_count": 26,
   "metadata": {},
   "outputs": [
    {
     "name": "stdout",
     "output_type": "stream",
     "text": [
      "{'screen_width': 1440, 'window_height': 675, 'workerId': 'A3PC2BR0YGEBA', 'age': '21', 'totalTime_mins': 24.5, 'comments': '', 'window_width': 1390, 'curId': '3N1FSUEFL6KRV7KU23SCJYJFFQA4DF', 'race': 'white', 'vision': 'normal', 'curTime': '24/09/2018@12:48:35', 'gender': 'female', 'ethnicity': 'not_hispanic', 'screen_height': 900}\n",
      "{'screen_width': 1920, 'window_height': 675, 'workerId': 'A1NEJS4NPQUA89', 'age': '20', 'totalTime_mins': 26.22355, 'comments': '- Eleanor (Ellie) Pinchbeck\\n- I didn\\'t encounter any bugs but I noticed that in the last phase of the experiment, sometimes the categories of \"color\" and \"shape\" appeared before or at the same time as the stimuli appeared\\n- I believe the instructions were clear\\n- I took me a little under 30 minutes (~28)\\n- N/A', 'window_width': 1855, 'curId': '3CTOC39K38A1HG25EXCUP8Y2BCXJ7S', 'race': 'white', 'vision': 'impaired', 'curTime': '24/09/2018@13:41:37', 'gender': 'female', 'ethnicity': 'not_hispanic', 'screen_height': 1080}\n"
     ]
    }
   ],
   "source": [
    "data = ast.literal_eval(open('../subject_data/pilot_data/3N1FSUEFL6KRV7KU23SCJYJFFQA4DF_demo.txt','r').read())\n",
    "data2 = ast.literal_eval(open('../subject_data/pilot_data/3CTOC39K38A1HG25EXCUP8Y2BCXJ7S_demo.txt','r').read())\n",
    "print data\n",
    "print data2"
   ]
  },
  {
   "cell_type": "code",
   "execution_count": 40,
   "metadata": {},
   "outputs": [],
   "source": [
    "data = ast.literal_eval(open('../subject_data/pilot_data/3N1FSUEFL6KRV7KU23SCJYJFFQA4DF_cued.txt','r').read())\n",
    "data2 = ast.literal_eval(open('../subject_data/pilot_data/3CTOC39K38A1HG25EXCUP8Y2BCXJ7S_cued.txt','r').read())"
   ]
  },
  {
   "cell_type": "code",
   "execution_count": 31,
   "metadata": {},
   "outputs": [],
   "source": [
    "def combineDicts(x,y):\n",
    "    out = {}\n",
    "    for e in x:\n",
    "        out[e] = [x[e], y[e]]\n",
    "    return out\n",
    "\n",
    "aggData = combineDicts(data,data2)"
   ]
  },
  {
   "cell_type": "code",
   "execution_count": 35,
   "metadata": {},
   "outputs": [
    {
     "name": "stdout",
     "output_type": "stream",
     "text": [
      "[('finishTime', [330026, 317851]), ('screen_width', [1440, 1920]), ('window_height', [708, 708]), ('workerId', ['A3PC2BR0YGEBA', 'A1NEJS4NPQUA89']), ('window_width', [1390, 1855])]\n"
     ]
    }
   ],
   "source": [
    "from itertools import islice\n",
    "\n",
    "def take(n, iterable):\n",
    "    \"Return first n items of the iterable as a list\"\n",
    "    return list(islice(iterable, n))\n",
    "\n",
    "print take(5, aggData.iteritems())"
   ]
  },
  {
   "cell_type": "code",
   "execution_count": 36,
   "metadata": {
    "scrolled": true
   },
   "outputs": [
    {
     "data": {
      "text/html": [
       "<div>\n",
       "<style scoped>\n",
       "    .dataframe tbody tr th:only-of-type {\n",
       "        vertical-align: middle;\n",
       "    }\n",
       "\n",
       "    .dataframe tbody tr th {\n",
       "        vertical-align: top;\n",
       "    }\n",
       "\n",
       "    .dataframe thead th {\n",
       "        text-align: right;\n",
       "    }\n",
       "</style>\n",
       "<table border=\"1\" class=\"dataframe\">\n",
       "  <thead>\n",
       "    <tr style=\"text-align: right;\">\n",
       "      <th></th>\n",
       "      <th>counterBalance_keys</th>\n",
       "      <th>counterBalance_order</th>\n",
       "      <th>curId</th>\n",
       "      <th>curTime</th>\n",
       "      <th>finishTime</th>\n",
       "      <th>screen_height</th>\n",
       "      <th>screen_width</th>\n",
       "      <th>trialStruct</th>\n",
       "      <th>userAgent</th>\n",
       "      <th>window_height</th>\n",
       "      <th>window_width</th>\n",
       "      <th>workerId</th>\n",
       "    </tr>\n",
       "  </thead>\n",
       "  <tbody>\n",
       "    <tr>\n",
       "      <th>0</th>\n",
       "      <td>{\"68\":\"red_key\",\"70\":\"blue_key\",\"74\":\"circle_k...</td>\n",
       "      <td>cued_first</td>\n",
       "      <td>3N1FSUEFL6KRV7KU23SCJYJFFQA4DF</td>\n",
       "      <td>24/09/2018@12:34:13</td>\n",
       "      <td>330026</td>\n",
       "      <td>900</td>\n",
       "      <td>1440</td>\n",
       "      <td>[{u'rt': 1060, u'stim_color': u'red', u'transi...</td>\n",
       "      <td>Mozilla/5.0 (Macintosh; Intel Mac OS X 10_10_3...</td>\n",
       "      <td>708</td>\n",
       "      <td>1390</td>\n",
       "      <td>A3PC2BR0YGEBA</td>\n",
       "    </tr>\n",
       "    <tr>\n",
       "      <th>1</th>\n",
       "      <td>{\"68\":\"blue_key\",\"70\":\"red_key\",\"74\":\"circle_k...</td>\n",
       "      <td>rvts_first</td>\n",
       "      <td>3CTOC39K38A1HG25EXCUP8Y2BCXJ7S</td>\n",
       "      <td>24/09/2018@13:38:40</td>\n",
       "      <td>317851</td>\n",
       "      <td>1080</td>\n",
       "      <td>1920</td>\n",
       "      <td>[{u'rt': 1375, u'stim_color': u'blue', u'trans...</td>\n",
       "      <td>Mozilla/5.0 (Macintosh; Intel Mac OS X 10_11_6...</td>\n",
       "      <td>708</td>\n",
       "      <td>1855</td>\n",
       "      <td>A1NEJS4NPQUA89</td>\n",
       "    </tr>\n",
       "  </tbody>\n",
       "</table>\n",
       "</div>"
      ],
      "text/plain": [
       "                                 counterBalance_keys counterBalance_order  \\\n",
       "0  {\"68\":\"red_key\",\"70\":\"blue_key\",\"74\":\"circle_k...           cued_first   \n",
       "1  {\"68\":\"blue_key\",\"70\":\"red_key\",\"74\":\"circle_k...           rvts_first   \n",
       "\n",
       "                            curId              curTime  finishTime  \\\n",
       "0  3N1FSUEFL6KRV7KU23SCJYJFFQA4DF  24/09/2018@12:34:13      330026   \n",
       "1  3CTOC39K38A1HG25EXCUP8Y2BCXJ7S  24/09/2018@13:38:40      317851   \n",
       "\n",
       "   screen_height  screen_width  \\\n",
       "0            900          1440   \n",
       "1           1080          1920   \n",
       "\n",
       "                                         trialStruct  \\\n",
       "0  [{u'rt': 1060, u'stim_color': u'red', u'transi...   \n",
       "1  [{u'rt': 1375, u'stim_color': u'blue', u'trans...   \n",
       "\n",
       "                                           userAgent  window_height  \\\n",
       "0  Mozilla/5.0 (Macintosh; Intel Mac OS X 10_10_3...            708   \n",
       "1  Mozilla/5.0 (Macintosh; Intel Mac OS X 10_11_6...            708   \n",
       "\n",
       "   window_width        workerId  \n",
       "0          1390   A3PC2BR0YGEBA  \n",
       "1          1855  A1NEJS4NPQUA89  "
      ]
     },
     "execution_count": 36,
     "metadata": {},
     "output_type": "execute_result"
    }
   ],
   "source": [
    "pd.DataFrame.from_dict(aggData)"
   ]
  },
  {
   "cell_type": "markdown",
   "metadata": {},
   "source": [
    "## Nope\n",
    "The method above clearly can't handle nested dictionaries"
   ]
  },
  {
   "cell_type": "code",
   "execution_count": 120,
   "metadata": {},
   "outputs": [],
   "source": [
    "data = ast.literal_eval(open('../subject_data/pilot_data/3N1FSUEFL6KRV7KU23SCJYJFFQA4DF_demo.txt','r').read())\n",
    "data2 = ast.literal_eval(open('../subject_data/pilot_data/3CTOC39K38A1HG25EXCUP8Y2BCXJ7S_cued.txt','r').read())"
   ]
  },
  {
   "cell_type": "code",
   "execution_count": 132,
   "metadata": {
    "scrolled": true
   },
   "outputs": [
    {
     "name": "stdout",
     "output_type": "stream",
     "text": [
      "['screen_width', 'window_height', 'workerId', 'age', 'totalTime_mins', 'comments', 'window_width', 'curId', 'race', 'vision', 'curTime', 'gender', 'ethnicity', 'screen_height']\n"
     ]
    }
   ],
   "source": [
    "if 'counterBalance_keys' in data.keys(): data['counterBalance_keys'] = ast.literal_eval(data['counterBalance_keys']) \n",
    "print data.keys()"
   ]
  },
  {
   "cell_type": "code",
   "execution_count": 134,
   "metadata": {},
   "outputs": [
    {
     "name": "stdout",
     "output_type": "stream",
     "text": [
      "['screen_width', 'window_height', 'workerId', 'age', 'totalTime_mins', 'comments', 'window_width', 'curId', 'race', 'vision', 'curTime', 'gender', 'ethnicity', 'screen_height']\n"
     ]
    }
   ],
   "source": [
    "## make headers\n",
    "headers = data.keys()\n",
    "if 'counterBalance_keys' in data.keys(): headers += data['counterBalance_keys'].keys()\n",
    "    \n",
    "if 'blockStruct' in data.keys():\n",
    "     headers += data['blockStruct'][0].keys() + data['blockStruct'][0]['trialStruct'][0].keys()\n",
    "elif 'trialStruct' in data.keys():\n",
    "    headers += data['trialStruct'][0].keys()\n",
    "\n",
    "headers = [x for x in headers if x not in ['trialStruct', 'counterBalance_keys']]\n",
    "\n",
    "print headers"
   ]
  },
  {
   "cell_type": "code",
   "execution_count": 136,
   "metadata": {},
   "outputs": [
    {
     "name": "stdout",
     "output_type": "stream",
     "text": [
      "[[1440, 675, 'A3PC2BR0YGEBA', '21', 24.5, '', 1390, '3N1FSUEFL6KRV7KU23SCJYJFFQA4DF', 'white', 'normal', '24/09/2018@12:48:35', 'female', 'not_hispanic', 900]]\n"
     ]
    }
   ],
   "source": [
    "def summarizeSubject(e):\n",
    "    \n",
    "    subjectLevel = [e[x] for x in e if x not in ['trialStruct', 'blockStruct', 'counterBalance_keys']]\n",
    "    if 'counterBalance_keys' in e.keys(): subjectLevel += e['counterBalance_keys'].values()\n",
    "    trials = []\n",
    "    build = []\n",
    "    \n",
    "    if 'blockStruct' in e.keys():\n",
    "        for block in e['blockStruct']:\n",
    "            for trial in block['trialStruct']:\n",
    "                trials.append(subjectLevel + [block[x] for x in block if x not in 'trialStruct'] + [x for x in trial.values()])\n",
    "                \n",
    "    elif 'trialStruct' in e.keys():\n",
    "        for trial in e['trialStruct']:\n",
    "            trials.append(subjectLevel + trial.values())\n",
    "            \n",
    "    else:\n",
    "        trials.append(subjectLevel)\n",
    "    \n",
    "    return trials\n",
    "\n",
    "print summarizeSubject(data)[:10]"
   ]
  }
 ],
 "metadata": {
  "kernelspec": {
   "display_name": "Python 2",
   "language": "python",
   "name": "python2"
  },
  "language_info": {
   "codemirror_mode": {
    "name": "ipython",
    "version": 2
   },
   "file_extension": ".py",
   "mimetype": "text/x-python",
   "name": "python",
   "nbconvert_exporter": "python",
   "pygments_lexer": "ipython2",
   "version": "2.7.15"
  }
 },
 "nbformat": 4,
 "nbformat_minor": 2
}
