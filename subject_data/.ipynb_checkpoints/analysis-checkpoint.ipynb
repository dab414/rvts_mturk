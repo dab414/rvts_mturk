{
 "cells": [
  {
   "cell_type": "code",
   "execution_count": 76,
   "metadata": {},
   "outputs": [],
   "source": [
    "import pandas as pd\n",
    "import numpy as np\n",
    "import matplotlib.pyplot as plt"
   ]
  },
  {
   "cell_type": "code",
   "execution_count": 77,
   "metadata": {},
   "outputs": [
    {
     "name": "stdout",
     "output_type": "stream",
     "text": [
      "   screen_width  window_height        workerId  window_width  \\\n",
      "0          1920            675  A1NEJS4NPQUA89          1870   \n",
      "1          1920            675  A1NEJS4NPQUA89          1870   \n",
      "2          1920            675  A1NEJS4NPQUA89          1870   \n",
      "3          1920            675  A1NEJS4NPQUA89          1870   \n",
      "4          1920            675  A1NEJS4NPQUA89          1870   \n",
      "\n",
      "                            curId              curTime counterBalance_order  \\\n",
      "0  3CTOC39K38A1HG25EXCUP8Y2BCXJ7S  24/09/2018@13:33:17           rvts_first   \n",
      "1  3CTOC39K38A1HG25EXCUP8Y2BCXJ7S  24/09/2018@13:33:17           rvts_first   \n",
      "2  3CTOC39K38A1HG25EXCUP8Y2BCXJ7S  24/09/2018@13:33:17           rvts_first   \n",
      "3  3CTOC39K38A1HG25EXCUP8Y2BCXJ7S  24/09/2018@13:33:17           rvts_first   \n",
      "4  3CTOC39K38A1HG25EXCUP8Y2BCXJ7S  24/09/2018@13:33:17           rvts_first   \n",
      "\n",
      "                                           userAgent  runTime  screen_height  \\\n",
      "0  Mozilla/5.0 (Macintosh; Intel Mac OS X 10_11_6...  813.885           1080   \n",
      "1  Mozilla/5.0 (Macintosh; Intel Mac OS X 10_11_6...  813.885           1080   \n",
      "2  Mozilla/5.0 (Macintosh; Intel Mac OS X 10_11_6...  813.885           1080   \n",
      "3  Mozilla/5.0 (Macintosh; Intel Mac OS X 10_11_6...  813.885           1080   \n",
      "4  Mozilla/5.0 (Macintosh; Intel Mac OS X 10_11_6...  813.885           1080   \n",
      "\n",
      "   ...   response_location  transition rightpoints trial stim_shape  \\\n",
      "0  ...                left  StartBlock           3     1     circle   \n",
      "1  ...                left      Repeat           3     2     circle   \n",
      "2  ...                left      Repeat           3     3     circle   \n",
      "3  ...               right      Switch           2     4   triangle   \n",
      "4  ...               right      Repeat           2     5     circle   \n",
      "\n",
      "  leftpoints  task_attempt  error  response_key  index  \n",
      "0          2         color      0      blue_key      1  \n",
      "1          1         color      0      blue_key      2  \n",
      "2          1         color      0      blue_key      3  \n",
      "3          1         shape      0       tri_key      4  \n",
      "4          1         shape      0    circle_key      5  \n",
      "\n",
      "[5 rows x 31 columns]\n"
     ]
    }
   ],
   "source": [
    "pilot = pd.read_csv('final_data_rvts.csv')\n",
    "pilot['index'] = range(1, len(pilot) + 1)\n",
    "print pilot.head()"
   ]
  },
  {
   "cell_type": "code",
   "execution_count": 78,
   "metadata": {},
   "outputs": [
    {
     "name": "stdout",
     "output_type": "stream",
     "text": [
      "transition\n",
      "Repeat    0.04754\n",
      "Switch    0.05467\n",
      "Name: error, dtype: float64\n"
     ]
    }
   ],
   "source": [
    "print pilot.loc[pilot['transition'] != 'StartBlock', :].groupby('transition')['error'].mean()"
   ]
  },
  {
   "cell_type": "code",
   "execution_count": 79,
   "metadata": {},
   "outputs": [
    {
     "data": {
      "image/png": "[encoded data removed]",
      "text/plain": [
       "<matplotlib.figure.Figure at 0x7fd6f487b090>"
      ]
     },
     "metadata": {},
     "output_type": "display_data"
    }
   ],
   "source": [
    "y = pilot.groupby(['workerId', 'transition'])['rt'].mean().to_frame().groupby('transition')['rt'].mean().reset_index()\n",
    "plt.bar(y['transition'], y['rt'])\n",
    "plt.ylabel('rt (ms)')\n",
    "plt.xlabel('transition')\n",
    "plt.show()"
   ]
  },
  {
   "cell_type": "code",
   "execution_count": 80,
   "metadata": {},
   "outputs": [
    {
     "data": {
      "text/html": [
       "<div>\n",
       "<style scoped>\n",
       "    .dataframe tbody tr th:only-of-type {\n",
       "        vertical-align: middle;\n",
       "    }\n",
       "\n",
       "    .dataframe tbody tr th {\n",
       "        vertical-align: top;\n",
       "    }\n",
       "\n",
       "    .dataframe thead th {\n",
       "        text-align: right;\n",
       "    }\n",
       "</style>\n",
       "<table border=\"1\" class=\"dataframe\">\n",
       "  <thead>\n",
       "    <tr style=\"text-align: right;\">\n",
       "      <th></th>\n",
       "      <th>finishTime</th>\n",
       "      <th>screen_width</th>\n",
       "      <th>window_height</th>\n",
       "      <th>workerId</th>\n",
       "      <th>window_width</th>\n",
       "      <th>curId</th>\n",
       "      <th>curTime</th>\n",
       "      <th>counterBalance_order</th>\n",
       "      <th>userAgent</th>\n",
       "      <th>screen_height</th>\n",
       "      <th>...</th>\n",
       "      <th>transition</th>\n",
       "      <th>response_location</th>\n",
       "      <th>trial</th>\n",
       "      <th>cue</th>\n",
       "      <th>stim_shape</th>\n",
       "      <th>rci</th>\n",
       "      <th>error</th>\n",
       "      <th>response_key</th>\n",
       "      <th>cti</th>\n",
       "      <th>task_attempt</th>\n",
       "    </tr>\n",
       "  </thead>\n",
       "  <tbody>\n",
       "    <tr>\n",
       "      <th>0</th>\n",
       "      <td>317851</td>\n",
       "      <td>1920</td>\n",
       "      <td>708</td>\n",
       "      <td>A1NEJS4NPQUA89</td>\n",
       "      <td>1855</td>\n",
       "      <td>3CTOC39K38A1HG25EXCUP8Y2BCXJ7S</td>\n",
       "      <td>24/09/2018@13:38:40</td>\n",
       "      <td>rvts_first</td>\n",
       "      <td>Mozilla/5.0 (Macintosh; Intel Mac OS X 10_11_6...</td>\n",
       "      <td>1080</td>\n",
       "      <td>...</td>\n",
       "      <td>StartBlock</td>\n",
       "      <td>left</td>\n",
       "      <td>1</td>\n",
       "      <td>Color</td>\n",
       "      <td>circle</td>\n",
       "      <td>1000</td>\n",
       "      <td>0</td>\n",
       "      <td>blue_key</td>\n",
       "      <td>100</td>\n",
       "      <td>color</td>\n",
       "    </tr>\n",
       "    <tr>\n",
       "      <th>1</th>\n",
       "      <td>317851</td>\n",
       "      <td>1920</td>\n",
       "      <td>708</td>\n",
       "      <td>A1NEJS4NPQUA89</td>\n",
       "      <td>1855</td>\n",
       "      <td>3CTOC39K38A1HG25EXCUP8Y2BCXJ7S</td>\n",
       "      <td>24/09/2018@13:38:40</td>\n",
       "      <td>rvts_first</td>\n",
       "      <td>Mozilla/5.0 (Macintosh; Intel Mac OS X 10_11_6...</td>\n",
       "      <td>1080</td>\n",
       "      <td>...</td>\n",
       "      <td>Switch</td>\n",
       "      <td>right</td>\n",
       "      <td>2</td>\n",
       "      <td>Shape</td>\n",
       "      <td>circle</td>\n",
       "      <td>1000</td>\n",
       "      <td>0</td>\n",
       "      <td>circle_key</td>\n",
       "      <td>100</td>\n",
       "      <td>shape</td>\n",
       "    </tr>\n",
       "    <tr>\n",
       "      <th>2</th>\n",
       "      <td>317851</td>\n",
       "      <td>1920</td>\n",
       "      <td>708</td>\n",
       "      <td>A1NEJS4NPQUA89</td>\n",
       "      <td>1855</td>\n",
       "      <td>3CTOC39K38A1HG25EXCUP8Y2BCXJ7S</td>\n",
       "      <td>24/09/2018@13:38:40</td>\n",
       "      <td>rvts_first</td>\n",
       "      <td>Mozilla/5.0 (Macintosh; Intel Mac OS X 10_11_6...</td>\n",
       "      <td>1080</td>\n",
       "      <td>...</td>\n",
       "      <td>Switch</td>\n",
       "      <td>left</td>\n",
       "      <td>3</td>\n",
       "      <td>Color</td>\n",
       "      <td>circle</td>\n",
       "      <td>100</td>\n",
       "      <td>0</td>\n",
       "      <td>red_key</td>\n",
       "      <td>1000</td>\n",
       "      <td>color</td>\n",
       "    </tr>\n",
       "    <tr>\n",
       "      <th>3</th>\n",
       "      <td>317851</td>\n",
       "      <td>1920</td>\n",
       "      <td>708</td>\n",
       "      <td>A1NEJS4NPQUA89</td>\n",
       "      <td>1855</td>\n",
       "      <td>3CTOC39K38A1HG25EXCUP8Y2BCXJ7S</td>\n",
       "      <td>24/09/2018@13:38:40</td>\n",
       "      <td>rvts_first</td>\n",
       "      <td>Mozilla/5.0 (Macintosh; Intel Mac OS X 10_11_6...</td>\n",
       "      <td>1080</td>\n",
       "      <td>...</td>\n",
       "      <td>Repeat</td>\n",
       "      <td>left</td>\n",
       "      <td>4</td>\n",
       "      <td>Color</td>\n",
       "      <td>triangle</td>\n",
       "      <td>100</td>\n",
       "      <td>0</td>\n",
       "      <td>red_key</td>\n",
       "      <td>1000</td>\n",
       "      <td>color</td>\n",
       "    </tr>\n",
       "    <tr>\n",
       "      <th>4</th>\n",
       "      <td>317851</td>\n",
       "      <td>1920</td>\n",
       "      <td>708</td>\n",
       "      <td>A1NEJS4NPQUA89</td>\n",
       "      <td>1855</td>\n",
       "      <td>3CTOC39K38A1HG25EXCUP8Y2BCXJ7S</td>\n",
       "      <td>24/09/2018@13:38:40</td>\n",
       "      <td>rvts_first</td>\n",
       "      <td>Mozilla/5.0 (Macintosh; Intel Mac OS X 10_11_6...</td>\n",
       "      <td>1080</td>\n",
       "      <td>...</td>\n",
       "      <td>Switch</td>\n",
       "      <td>right</td>\n",
       "      <td>5</td>\n",
       "      <td>Shape</td>\n",
       "      <td>circle</td>\n",
       "      <td>100</td>\n",
       "      <td>0</td>\n",
       "      <td>circle_key</td>\n",
       "      <td>1000</td>\n",
       "      <td>shape</td>\n",
       "    </tr>\n",
       "  </tbody>\n",
       "</table>\n",
       "<p>5 rows × 28 columns</p>\n",
       "</div>"
      ],
      "text/plain": [
       "   finishTime  screen_width  window_height        workerId  window_width  \\\n",
       "0      317851          1920            708  A1NEJS4NPQUA89          1855   \n",
       "1      317851          1920            708  A1NEJS4NPQUA89          1855   \n",
       "2      317851          1920            708  A1NEJS4NPQUA89          1855   \n",
       "3      317851          1920            708  A1NEJS4NPQUA89          1855   \n",
       "4      317851          1920            708  A1NEJS4NPQUA89          1855   \n",
       "\n",
       "                            curId              curTime counterBalance_order  \\\n",
       "0  3CTOC39K38A1HG25EXCUP8Y2BCXJ7S  24/09/2018@13:38:40           rvts_first   \n",
       "1  3CTOC39K38A1HG25EXCUP8Y2BCXJ7S  24/09/2018@13:38:40           rvts_first   \n",
       "2  3CTOC39K38A1HG25EXCUP8Y2BCXJ7S  24/09/2018@13:38:40           rvts_first   \n",
       "3  3CTOC39K38A1HG25EXCUP8Y2BCXJ7S  24/09/2018@13:38:40           rvts_first   \n",
       "4  3CTOC39K38A1HG25EXCUP8Y2BCXJ7S  24/09/2018@13:38:40           rvts_first   \n",
       "\n",
       "                                           userAgent  screen_height  \\\n",
       "0  Mozilla/5.0 (Macintosh; Intel Mac OS X 10_11_6...           1080   \n",
       "1  Mozilla/5.0 (Macintosh; Intel Mac OS X 10_11_6...           1080   \n",
       "2  Mozilla/5.0 (Macintosh; Intel Mac OS X 10_11_6...           1080   \n",
       "3  Mozilla/5.0 (Macintosh; Intel Mac OS X 10_11_6...           1080   \n",
       "4  Mozilla/5.0 (Macintosh; Intel Mac OS X 10_11_6...           1080   \n",
       "\n",
       "      ...       transition response_location trial    cue stim_shape   rci  \\\n",
       "0     ...       StartBlock              left     1  Color     circle  1000   \n",
       "1     ...           Switch             right     2  Shape     circle  1000   \n",
       "2     ...           Switch              left     3  Color     circle   100   \n",
       "3     ...           Repeat              left     4  Color   triangle   100   \n",
       "4     ...           Switch             right     5  Shape     circle   100   \n",
       "\n",
       "   error response_key   cti task_attempt  \n",
       "0      0     blue_key   100        color  \n",
       "1      0   circle_key   100        shape  \n",
       "2      0      red_key  1000        color  \n",
       "3      0      red_key  1000        color  \n",
       "4      0   circle_key  1000        shape  \n",
       "\n",
       "[5 rows x 28 columns]"
      ]
     },
     "execution_count": 80,
     "metadata": {},
     "output_type": "execute_result"
    }
   ],
   "source": [
    "sc = pd.read_csv('final_data_cued.csv')\n",
    "sc.head()"
   ]
  },
  {
   "cell_type": "code",
   "execution_count": 81,
   "metadata": {},
   "outputs": [],
   "source": [
    "workers = sc.groupby('workerId')['rt'].mean().reset_index()\n",
    "workers['subject'] = range(1,6)\n",
    "sc = sc.merge(workers[['workerId','subject']], how = 'inner')\n",
    "pilot = pilot.merge(workers[['workerId','subject']], how = 'inner')"
   ]
  },
  {
   "cell_type": "code",
   "execution_count": 82,
   "metadata": {},
   "outputs": [],
   "source": [
    "costs = sc.loc[sc['transition'] != 'StartBlock', :].groupby(['subject','transition'])['rt'].mean().reset_index().pivot_table(index = 'subject',\n",
    "                                                                           columns = 'transition',\n",
    "                                                                           values = 'rt').reset_index()\n",
    "costs['switch_cost'] = costs['Switch'] - costs['Repeat']"
   ]
  },
  {
   "cell_type": "code",
   "execution_count": 83,
   "metadata": {
    "scrolled": true
   },
   "outputs": [
    {
     "name": "stdout",
     "output_type": "stream",
     "text": [
      "['screen_width', 'window_height', 'workerId', 'window_width', 'curId', 'curTime', 'counterBalance_order', 'userAgent', 'runTime', 'screen_height', 'top_left', 'top_right', '75', '74', '70', '68', 'blockTime', 'Block', 'rt', 'totalPoints', 'stim_color', 'response_location', 'transition', 'rightpoints', 'trial', 'stim_shape', 'leftpoints', 'task_attempt', 'error', 'response_key', 'index', 'subject', 'switch_cost']\n"
     ]
    }
   ],
   "source": [
    "pilot = pilot.merge(costs.loc[:,['subject','switch_cost']])\n",
    "print list(pilot)"
   ]
  },
  {
   "cell_type": "code",
   "execution_count": 84,
   "metadata": {},
   "outputs": [
    {
     "name": "stdout",
     "output_type": "stream",
     "text": [
      "   screen_width  window_height        workerId  window_width  \\\n",
      "0          1920            675  A1NEJS4NPQUA89          1870   \n",
      "1          1920            675  A1NEJS4NPQUA89          1870   \n",
      "2          1920            675  A1NEJS4NPQUA89          1870   \n",
      "3          1920            675  A1NEJS4NPQUA89          1870   \n",
      "4          1920            675  A1NEJS4NPQUA89          1870   \n",
      "\n",
      "                            curId              curTime counterBalance_order  \\\n",
      "0  3CTOC39K38A1HG25EXCUP8Y2BCXJ7S  24/09/2018@13:33:17           rvts_first   \n",
      "1  3CTOC39K38A1HG25EXCUP8Y2BCXJ7S  24/09/2018@13:33:17           rvts_first   \n",
      "2  3CTOC39K38A1HG25EXCUP8Y2BCXJ7S  24/09/2018@13:33:17           rvts_first   \n",
      "3  3CTOC39K38A1HG25EXCUP8Y2BCXJ7S  24/09/2018@13:33:17           rvts_first   \n",
      "4  3CTOC39K38A1HG25EXCUP8Y2BCXJ7S  24/09/2018@13:33:17           rvts_first   \n",
      "\n",
      "                                           userAgent  runTime  screen_height  \\\n",
      "0  Mozilla/5.0 (Macintosh; Intel Mac OS X 10_11_6...  813.885           1080   \n",
      "1  Mozilla/5.0 (Macintosh; Intel Mac OS X 10_11_6...  813.885           1080   \n",
      "2  Mozilla/5.0 (Macintosh; Intel Mac OS X 10_11_6...  813.885           1080   \n",
      "3  Mozilla/5.0 (Macintosh; Intel Mac OS X 10_11_6...  813.885           1080   \n",
      "4  Mozilla/5.0 (Macintosh; Intel Mac OS X 10_11_6...  813.885           1080   \n",
      "\n",
      "    ...   stim_shape leftpoints task_attempt error response_key index  \\\n",
      "0   ...       circle          2        color     0     blue_key     1   \n",
      "1   ...       circle          1        color     0     blue_key     2   \n",
      "2   ...       circle          1        color     0     blue_key     3   \n",
      "3   ...     triangle          1        shape     0      tri_key     4   \n",
      "4   ...       circle          1        shape     0   circle_key     5   \n",
      "\n",
      "   subject  switch_cost  current   other  \n",
      "0        1    365.98528  -9999.0 -9999.0  \n",
      "1        1    365.98528      1.0     0.0  \n",
      "2        1    365.98528      0.0     0.0  \n",
      "3        1    365.98528      0.0     1.0  \n",
      "4        1    365.98528      0.0     0.0  \n",
      "\n",
      "[5 rows x 35 columns]\n"
     ]
    }
   ],
   "source": [
    "for row in range(0, len(pilot)):\n",
    "    if row == 0:\n",
    "        pilot.loc[row, 'current'] = -9999\n",
    "    elif (pilot.loc[row - 1, 'response_location'] == 'left' and pilot.loc[row, 'leftpoints'] < \\\n",
    "    pilot.loc[row - 1, 'leftpoints']) or \\\n",
    "    (pilot.loc[row - 1, 'response_location'] == 'right' and pilot.loc[row, 'rightpoints'] < \\\n",
    "    pilot.loc[row - 1, 'rightpoints']):\n",
    "        pilot.loc[row, 'current'] = 1\n",
    "    else:\n",
    "        pilot.loc[row, 'current'] = 0\n",
    "    \n",
    "for row in range(0, len(pilot)):\n",
    "    if row == 0:\n",
    "        pilot.loc[row, 'other'] = -9999\n",
    "    elif (pilot.loc[row - 1, 'response_location'] == 'left' and pilot.loc[row, 'rightpoints'] < \\\n",
    "    pilot.loc[row - 1, 'rightpoints']) or \\\n",
    "    (pilot.loc[row - 1, 'response_location'] == 'right' and pilot.loc[row, 'leftpoints'] < \\\n",
    "    pilot.loc[row - 1, 'leftpoints']):\n",
    "        pilot.loc[row, 'other'] = 1\n",
    "    else:\n",
    "        pilot.loc[row, 'other'] = 0\n",
    "    \n",
    "print pilot.head()"
   ]
  },
  {
   "cell_type": "code",
   "execution_count": 85,
   "metadata": {},
   "outputs": [
    {
     "name": "stdout",
     "output_type": "stream",
     "text": [
      "   response_location  leftpoints  rightpoints  current   other  index\n",
      "0               left           2            3  -9999.0 -9999.0      1\n",
      "1               left           1            3      1.0     0.0      2\n",
      "2               left           1            3      0.0     0.0      3\n",
      "3              right           1            2      0.0     1.0      4\n",
      "4              right           1            2      0.0     0.0      5\n",
      "5              right           2            2      0.0     0.0      6\n",
      "6              right           2            2      0.0     0.0      7\n",
      "7              right           2            1      1.0     0.0      8\n",
      "8               left           2            1      0.0     0.0      9\n",
      "9               left           1            1      1.0     0.0     10\n",
      "10              left           1            1      0.0     0.0     11\n",
      "11              left           1            2      0.0     0.0     12\n",
      "12              left           1            2      0.0     0.0     13\n",
      "13              left           1            3      0.0     0.0     14\n",
      "14              left           1            3      0.0     0.0     15\n",
      "15             right           1            3      0.0     0.0     16\n",
      "16             right           2            2      1.0     0.0     17\n",
      "17             right           3            1      1.0     0.0     18\n",
      "18             right           3            1      0.0     0.0     19\n",
      "19             right           3            1      0.0     0.0     20\n",
      "20             right           3            1      0.0     0.0     21\n",
      "21             right           3            1      0.0     0.0     22\n",
      "22             right           3            1      0.0     0.0     23\n",
      "23              left           3            1      0.0     0.0     24\n",
      "24              left           2            1      1.0     0.0     25\n",
      "25              left           1            2      1.0     0.0     26\n",
      "26              left           1            2      0.0     0.0     27\n",
      "27              left           1            3      0.0     0.0     28\n",
      "28              left           1            3      0.0     0.0     29\n",
      "29             right           1            3      0.0     0.0     30\n",
      "30             right           2            3      0.0     0.0     31\n",
      "31             right           3            2      1.0     0.0     32\n",
      "32             right           3            2      0.0     0.0     33\n",
      "33              left           2            3      0.0     1.0     34\n",
      "34              left           2            3      0.0     0.0     35\n",
      "35              left           1            3      1.0     0.0     36\n",
      "36              left           1            3      0.0     0.0     37\n",
      "37              left           1            3      0.0     0.0     38\n",
      "38             right           2            3      0.0     0.0     39\n",
      "39             right           3            2      1.0     0.0     40\n",
      "40              left           3            3      0.0     0.0     41\n",
      "41              left           3            3      0.0     0.0     42\n",
      "42              left           2            3      1.0     0.0     43\n",
      "43              left           2            3      0.0     0.0     44\n",
      "44              left           2            3      0.0     0.0     45\n",
      "45              left           1            3      1.0     0.0     46\n",
      "46              left           1            3      0.0     0.0     47\n",
      "47              left           1            3      0.0     0.0     48\n",
      "48             right           1            3      0.0     0.0     49\n",
      "49             right           1            3      0.0     0.0     50\n",
      "50             right           2            3      0.0     0.0     51\n"
     ]
    }
   ],
   "source": [
    "print pilot.loc[:50, ['response_location', 'leftpoints', 'rightpoints', 'current', 'other', 'index']]"
   ]
  },
  {
   "cell_type": "code",
   "execution_count": 87,
   "metadata": {},
   "outputs": [
    {
     "name": "stdout",
     "output_type": "stream",
     "text": [
      "413.0\n"
     ]
    }
   ],
   "source": [
    "print sum(pilot.loc[pilot['other'] > 0,'other'])"
   ]
  },
  {
   "cell_type": "markdown",
   "metadata": {},
   "source": [
    "Alright so here I coded `other` incorrectly but it actually revealed what could be a major problem. `other` should *never* decrease... wtf\n",
    "\n",
    "Yup so this is a flaw in the javascript  \n",
    "Points are being updated *before* data is being logged on each trial  \n",
    "I moved point updating to after data logging in the script.. jeeze, i guess this is why you pilot heh"
   ]
  },
  {
   "cell_type": "code",
   "execution_count": 52,
   "metadata": {},
   "outputs": [
    {
     "name": "stdout",
     "output_type": "stream",
     "text": [
      "yup\n"
     ]
    }
   ],
   "source": [
    "if (1 > 2 and 2 > 1) or (2 > 1 and 3 > 2):\n",
    "    print 'yup'"
   ]
  },
  {
   "cell_type": "code",
   "execution_count": null,
   "metadata": {},
   "outputs": [],
   "source": [
    "pilot = pilot.loc[pilot['transition'] != 'StartBlock',].loc[pilot['error'] == 0]"
   ]
  }
 ],
 "metadata": {
  "kernelspec": {
   "display_name": "Python 2",
   "language": "python",
   "name": "python2"
  },
  "language_info": {
   "codemirror_mode": {
    "name": "ipython",
    "version": 2
   },
   "file_extension": ".py",
   "mimetype": "text/x-python",
   "name": "python",
   "nbconvert_exporter": "python",
   "pygments_lexer": "ipython2",
   "version": "2.7.14"
  }
 },
 "nbformat": 4,
 "nbformat_minor": 2
}
